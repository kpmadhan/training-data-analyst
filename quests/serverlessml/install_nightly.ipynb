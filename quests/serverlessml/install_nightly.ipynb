{
 "cells": [
  {
   "cell_type": "code",
   "execution_count": null,
   "metadata": {},
   "outputs": [],
   "source": [
    "%pip install --upgrade --quiet tf-nightly-2.0-preview #tf-nightly"
   ]
  },
  {
   "cell_type": "code",
   "execution_count": 1,
   "metadata": {},
   "outputs": [
    {
     "name": "stdout",
     "output_type": "stream",
     "text": [
      "1.14.0\n"
     ]
    }
   ],
   "source": [
    "import tensorflow as tf\n",
    "print(tf.version.VERSION)"
   ]
  },
  {
   "cell_type": "code",
   "execution_count": 2,
   "metadata": {},
   "outputs": [
    {
     "name": "stdout",
     "output_type": "stream",
     "text": [
      "1.14.0\n"
     ]
    },
    {
     "name": "stderr",
     "output_type": "stream",
     "text": [
      "WARNING: Logging before flag parsing goes to stderr.\n",
      "W0806 00:27:55.009308 140248122287872 deprecation.py:323] From /usr/local/lib/python3.5/dist-packages/tensorflow/python/feature_column/feature_column_v2.py:2655: add_dispatch_support.<locals>.wrapper (from tensorflow.python.ops.array_ops) is deprecated and will be removed in a future version.\n",
      "Instructions for updating:\n",
      "Use tf.where in 2.0, which has the same broadcast rule as np.where\n",
      "W0806 00:27:55.044686 140248122287872 deprecation.py:323] From /usr/local/lib/python3.5/dist-packages/tensorflow/python/feature_column/feature_column_v2.py:4207: IndicatorColumn._variable_shape (from tensorflow.python.feature_column.feature_column_v2) is deprecated and will be removed in a future version.\n",
      "Instructions for updating:\n",
      "The old _FeatureColumn APIs are being deprecated. Please use the new FeatureColumn APIs instead.\n",
      "W0806 00:27:55.045808 140248122287872 deprecation.py:323] From /usr/local/lib/python3.5/dist-packages/tensorflow/python/feature_column/feature_column_v2.py:4262: IdentityCategoricalColumn._num_buckets (from tensorflow.python.feature_column.feature_column_v2) is deprecated and will be removed in a future version.\n",
      "Instructions for updating:\n",
      "The old _FeatureColumn APIs are being deprecated. Please use the new FeatureColumn APIs instead.\n",
      "W0806 00:27:55.110018 140248122287872 deprecation.py:506] From /usr/local/lib/python3.5/dist-packages/tensorflow/python/ops/init_ops.py:1251: calling VarianceScaling.__init__ (from tensorflow.python.ops.init_ops) with dtype is deprecated and will be removed in a future version.\n",
      "Instructions for updating:\n",
      "Call initializer instance with the dtype argument instead of passing it to the constructor\n"
     ]
    },
    {
     "name": "stdout",
     "output_type": "stream",
     "text": [
      "1/1 [==============================] - 0s 312ms/step - loss: 5.0054 - mean_squared_error: 5.0054\n",
      "3/3 [==============================] - 0s 81ms/sample - loss: 4.9924 - mean_squared_error: 4.9924\n"
     ]
    },
    {
     "data": {
      "text/plain": [
       "array([[0.10164087]], dtype=float32)"
      ]
     },
     "execution_count": 2,
     "metadata": {},
     "output_type": "execute_result"
    }
   ],
   "source": [
    "import pandas as pd\n",
    "import datetime\n",
    "print(tf.version.VERSION)\n",
    "import shutil\n",
    "import os\n",
    "\n",
    "# serving inputs to model\n",
    "inputs = {\n",
    "    'a' : tf.keras.layers.Input(name='a', shape=(), dtype='int32'),\n",
    "    'b' : tf.keras.layers.Input(name='b', shape=(), dtype='int32')\n",
    "}\n",
    "\n",
    "# feature columns based on training inputs\n",
    "infc = {\n",
    "    'a' : tf.feature_column.categorical_column_with_identity('a', num_buckets = 7),\n",
    "    'b' : tf.feature_column.categorical_column_with_identity('b', num_buckets = 24)\n",
    "}\n",
    "#infc['ab'] = tf.feature_column.crossed_column([infc['a'], infc['b']], 2 )\n",
    "\n",
    "# transformed\n",
    "outfc = {\n",
    "    'a' : tf.feature_column.indicator_column(infc['a']),\n",
    "    'b' : tf.feature_column.indicator_column(infc['b']),\n",
    "    #'ab': tf.feature_column.embedding_column(infc['ab'], 2)                                            \n",
    "}\n",
    "\n",
    "# model architecture\n",
    "ds = tf.keras.layers.DenseFeatures(outfc.values())(inputs)\n",
    "output = tf.keras.layers.Dense(1, name='pred')(ds)\n",
    "model = tf.keras.models.Model(inputs=inputs, outputs=output)\n",
    "\n",
    "model.compile(optimizer='adam', loss='mse', metrics=['mse'])\n",
    "\n",
    "df = pd.DataFrame.from_dict({\n",
    "    'a': [3, 5, 2],\n",
    "    'b': [13, 15, 18]\n",
    "})\n",
    "y =  [3.0, 2.0, 2.0]\n",
    "\n",
    "#shutil.rmtree('04_keras/checkpoints/', ignore_errors=True)\n",
    "#checkpoint_path = \"04_keras/checkpoints/nightly.cpt\"\n",
    "#cp_callback = tf.keras.callbacks.ModelCheckpoint(checkpoint_path, \n",
    "#                                                 save_weights_only=True,\n",
    "#                                                 verbose=1)\n",
    "\n",
    "model.fit([df['a'], df['b']], y, steps_per_epoch=1) #, callbacks=[cp_callback])\n",
    "model.evaluate([df['a'], df['b']], y)\n",
    "\n",
    "model.predict({\n",
    "    'a': tf.convert_to_tensor([3]),\n",
    "    'b': tf.convert_to_tensor([13])\n",
    "}, steps=1)"
   ]
  },
  {
   "cell_type": "code",
   "execution_count": 3,
   "metadata": {},
   "outputs": [
    {
     "data": {
      "image/png": "[encoded data removed]",
      "text/plain": [
       "<IPython.core.display.Image object>"
      ]
     },
     "execution_count": 3,
     "metadata": {},
     "output_type": "execute_result"
    }
   ],
   "source": [
    "tf.keras.utils.plot_model(model, 'repro_model.png', show_shapes=True)"
   ]
  },
  {
   "cell_type": "code",
   "execution_count": 93,
   "metadata": {},
   "outputs": [],
   "source": [
    "# demonstrates how to write a custom serving function\n",
    "class ExportModel(tf.keras.Model):\n",
    "    def __init__(self, model):\n",
    "        super().__init__(self)\n",
    "        self.model = model\n",
    "\n",
    "    @tf.function(input_signature=[\n",
    "        tf.TensorSpec([None,], dtype='int32', name='a'),\n",
    "        tf.TensorSpec([None,], dtype='int32', name='b')\n",
    "    ])\n",
    "    def serving_fn(self, a, b):\n",
    "        return {\n",
    "            'pred' : self.model({'a': a, 'b': b}) #, steps=1)\n",
    "        }\n",
    "\n",
    "    def save(self, export_path):\n",
    "        sigs = {\n",
    "            'serving_default' : self.serving_fn\n",
    "        }\n",
    "        tf.keras.backend.set_learning_phase(0) # inference only\n",
    "        tf.saved_model.save(self, export_path, signatures=sigs)\n",
    "\n",
    "import shutil, os, datetime\n",
    "OUTPUT_DIR = '04_keras/export/savedmodel'\n",
    "shutil.rmtree(OUTPUT_DIR, ignore_errors=True)\n",
    "EXPORT_PATH = os.path.join(OUTPUT_DIR, datetime.datetime.now().strftime('%Y%m%d%H%M%S'))\n",
    "\n",
    "# sm = ExportModel(model); sm.save(EXPORT_PATH)  # custom serving function\n",
    "tf.saved_model.save(model, EXPORT_PATH) # with default serving function"
   ]
  },
  {
   "cell_type": "code",
   "execution_count": 94,
   "metadata": {},
   "outputs": [
    {
     "name": "stdout",
     "output_type": "stream",
     "text": [
      "The given SavedModel SignatureDef contains the following input(s):\n",
      "  inputs['a'] tensor_info:\n",
      "      dtype: DT_INT32\n",
      "      shape: (-1)\n",
      "      name: serving_default_a:0\n",
      "  inputs['b'] tensor_info:\n",
      "      dtype: DT_INT32\n",
      "      shape: (-1)\n",
      "      name: serving_default_b:0\n",
      "The given SavedModel SignatureDef contains the following output(s):\n",
      "  outputs['pred'] tensor_info:\n",
      "      dtype: DT_FLOAT\n",
      "      shape: (-1, 1)\n",
      "      name: StatefulPartitionedCall:0\n",
      "Method name is: tensorflow/serving/predict\n"
     ]
    }
   ],
   "source": [
    "!saved_model_cli show --tag_set serve --signature_def serving_default --dir {EXPORT_PATH}"
   ]
  },
  {
   "cell_type": "code",
   "execution_count": 95,
   "metadata": {},
   "outputs": [
    {
     "name": "stdout",
     "output_type": "stream",
     "text": [
      "04_keras/export/savedmodel/20190808235300\n",
      "04_keras/export/savedmodel/20190808235300/saved_model.pb\n",
      "04_keras/export/savedmodel/20190808235300/assets\n",
      "04_keras/export/savedmodel/20190808235300/variables\n",
      "04_keras/export/savedmodel/20190808235300/variables/variables.index\n",
      "04_keras/export/savedmodel/20190808235300/variables/variables.data-00000-of-00002\n",
      "04_keras/export/savedmodel/20190808235300/variables/variables.data-00001-of-00002\n"
     ]
    }
   ],
   "source": [
    "!find {EXPORT_PATH}\n",
    "os.environ['EXPORT_PATH'] = EXPORT_PATH"
   ]
  },
  {
   "cell_type": "code",
   "execution_count": 21,
   "metadata": {},
   "outputs": [
    {
     "name": "stdout",
     "output_type": "stream",
     "text": [
      "Overwriting repro.json\n"
     ]
    }
   ],
   "source": [
    "%%writefile repro.json\n",
    "{\"a\": 3, \"b\": 13}"
   ]
  },
  {
   "cell_type": "code",
   "execution_count": 97,
   "metadata": {},
   "outputs": [
    {
     "name": "stdout",
     "output_type": "stream",
     "text": [
      "taxifare already exists\n",
      "Creating taxifare:v1\n"
     ]
    }
   ],
   "source": [
    "%%bash\n",
    "PROJECT=cloud-training-demos\n",
    "BUCKET=${PROJECT}-ml\n",
    "REGION=us-east1\n",
    "MODEL_NAME=taxifare\n",
    "VERSION_NAME=v1\n",
    "\n",
    "if [[ $(gcloud ai-platform models list --format='value(name)' | grep $MODEL_NAME) ]]; then\n",
    "    echo \"$MODEL_NAME already exists\"\n",
    "else\n",
    "    # create model\n",
    "    echo \"Creating $MODEL_NAME\"\n",
    "    gcloud ai-platform models create --regions=$REGION $MODEL_NAME\n",
    "fi\n",
    "\n",
    "if [[ $(gcloud ai-platform versions list --model $MODEL_NAME --format='value(name)' | grep $VERSION_NAME) ]]; then\n",
    "    echo \"Deleting already existing $MODEL_NAME:$VERSION_NAME ... \"\n",
    "    gcloud ai-platform versions delete --model=$MODEL_NAME $VERSION_NAME\n",
    "    echo \"Please run this cell again if you don't see a Creating message ... \"\n",
    "    sleep 10\n",
    "fi\n",
    "\n",
    "# create model\n",
    "echo \"Creating $MODEL_NAME:$VERSION_NAME\"\n",
    "gcloud ai-platform versions create --model=$MODEL_NAME $VERSION_NAME --async \\\n",
    "       --framework=tensorflow --python-version=3.5 --runtime-version=1.14 \\\n",
    "       --origin=$EXPORT_PATH --staging-bucket=gs://$BUCKET"
   ]
  },
  {
   "cell_type": "code",
   "execution_count": 98,
   "metadata": {},
   "outputs": [
    {
     "name": "stdout",
     "output_type": "stream",
     "text": [
      "PRED\n",
      "[0.10164086520671844]\n"
     ]
    }
   ],
   "source": [
    "!gcloud ai-platform predict --model taxifare --json-instances repro.json --version v1"
   ]
  },
  {
   "cell_type": "code",
   "execution_count": 100,
   "metadata": {},
   "outputs": [
    {
     "name": "stdout",
     "output_type": "stream",
     "text": [
      "1.14.0\n",
      "\n",
      "Epoch 00001: saving model to /tmp/checkpoints/taxi\n",
      "1/1 [==============================] - 0s 376ms/step - loss: 5.4494 - mean_squared_error: 5.4494\n"
     ]
    }
   ],
   "source": [
    "## REPRO for @tf.function\n",
    "\n",
    "import tensorflow as tf\n",
    "import pandas as pd\n",
    "import datetime\n",
    "print(tf.version.VERSION)\n",
    "import shutil\n",
    "import os\n",
    "\n",
    "# serving inputs to model\n",
    "inputs = {\n",
    "    'pickup_datetime' : tf.keras.layers.Input(name='a', shape=(), dtype='string')\n",
    "}\n",
    "\n",
    "transformed = {}\n",
    "feature_columns = {}\n",
    "\n",
    "# hourofday can be done through a tf.strings.substr and works okay\n",
    "transformed['hourofday'] = tf.keras.layers.Lambda(\n",
    "        lambda x: tf.strings.to_number(tf.strings.substr(x, 11, 2), out_type=tf.dtypes.int32),\n",
    "        name='hourofday'\n",
    ")(inputs['pickup_datetime'])\n",
    "feature_columns['hourofday'] = tf.feature_column.indicator_column(\n",
    "        tf.feature_column.categorical_column_with_identity('hourofday', num_buckets=24))\n",
    "\n",
    "# ADDING THIS CODE CAUSES ERROR\n",
    "if False:\n",
    "    DAYS = ['Sun', 'Mon', 'Tue', 'Wed', 'Thu', 'Fri', 'Sat']\n",
    "    def get_dayofweek(s):\n",
    "        if type(s) is not str:\n",
    "            s = s.numpy().decode('utf-8') # if it is a Tensor\n",
    "        ts = datetime.datetime.strptime(s, \"%Y-%m-%d %H:%M:%S %Z\")\n",
    "        return DAYS[ts.weekday()]\n",
    "\n",
    "    print(get_dayofweek('2012-07-05 14:18:00 UTC'))\n",
    "    print(get_dayofweek(tf.constant('2012-07-05 14:18:00 UTC')))\n",
    "\n",
    "    def dayofweek(ts_in):\n",
    "        return tf.map_fn(\n",
    "            lambda s: tf.py_function(get_dayofweek, inp=[s], Tout=tf.string),\n",
    "            ts_in\n",
    "        )\n",
    "\n",
    "    transformed['dayofweek'] = tf.keras.layers.Lambda(\n",
    "            lambda x: dayofweek(x),\n",
    "            name='dayofweek_pyfun'\n",
    "    )(inputs['pickup_datetime'])\n",
    "    transformed['dayofweek'] = tf.keras.layers.Reshape((), name='dayofweek')(transformed['dayofweek'])\n",
    "    feature_columns['dayofweek'] = tf.feature_column.indicator_column(\n",
    "        tf.feature_column.categorical_column_with_vocabulary_list('dayofweek', vocabulary_list = DAYS))\n",
    "## END ADD\n",
    "\n",
    "# model architecture\n",
    "ds = tf.keras.layers.DenseFeatures(feature_columns.values())(transformed)\n",
    "output = tf.keras.layers.Dense(1, name='pred')(ds)\n",
    "model = tf.keras.models.Model(inputs=inputs, outputs=output)\n",
    "\n",
    "model.compile(optimizer='adam', loss='mse', metrics=['mse'])\n",
    "\n",
    "df = pd.DataFrame.from_dict({\n",
    "    'pickup_datetime': ['2012-07-05 14:18:00 UTC', '2012-07-05 15:18:00 UTC'],\n",
    "})\n",
    "y =  [3.0, 2.0]\n",
    "\n",
    "# need clean checkpoint path: otherwise get cache error\n",
    "OUTDIR='/tmp'\n",
    "shutil.rmtree('{}/checkpoints/'.format(OUTDIR), ignore_errors=True)\n",
    "checkpoint_path = '{}/checkpoints/taxi'.format(OUTDIR)\n",
    "cp_callback = tf.keras.callbacks.ModelCheckpoint(checkpoint_path, \n",
    "                                                 save_weights_only=True,\n",
    "                                                 verbose=1)\n",
    "\n",
    "history = model.fit([df['pickup_datetime']], y, steps_per_epoch=1, callbacks=[cp_callback])\n",
    "\n",
    "\n",
    "import shutil, os, datetime\n",
    "OUTPUT_DIR = '04_keras/export/savedmodel'\n",
    "shutil.rmtree(OUTPUT_DIR, ignore_errors=True)\n",
    "EXPORT_PATH = os.path.join(OUTPUT_DIR, datetime.datetime.now().strftime('%Y%m%d%H%M%S'))\n",
    "tf.saved_model.save(model, EXPORT_PATH)"
   ]
  },
  {
   "cell_type": "code",
   "execution_count": 101,
   "metadata": {},
   "outputs": [
    {
     "name": "stdout",
     "output_type": "stream",
     "text": [
      "The given SavedModel SignatureDef contains the following input(s):\n",
      "  inputs['a'] tensor_info:\n",
      "      dtype: DT_STRING\n",
      "      shape: (-1)\n",
      "      name: serving_default_a:0\n",
      "The given SavedModel SignatureDef contains the following output(s):\n",
      "  outputs['pred'] tensor_info:\n",
      "      dtype: DT_FLOAT\n",
      "      shape: (-1, 1)\n",
      "      name: StatefulPartitionedCall:0\n",
      "Method name is: tensorflow/serving/predict\n"
     ]
    }
   ],
   "source": [
    "!saved_model_cli show --tag_set serve --signature_def serving_default --dir {EXPORT_PATH}"
   ]
  },
  {
   "cell_type": "code",
   "execution_count": null,
   "metadata": {},
   "outputs": [],
   "source": []
  }
 ],
 "metadata": {
  "kernelspec": {
   "display_name": "Python 3",
   "language": "python",
   "name": "python3"
  },
  "language_info": {
   "codemirror_mode": {
    "name": "ipython",
    "version": 3
   },
   "file_extension": ".py",
   "mimetype": "text/x-python",
   "name": "python",
   "nbconvert_exporter": "python",
   "pygments_lexer": "ipython3",
   "version": "3.5.3"
  }
 },
 "nbformat": 4,
 "nbformat_minor": 2
}
