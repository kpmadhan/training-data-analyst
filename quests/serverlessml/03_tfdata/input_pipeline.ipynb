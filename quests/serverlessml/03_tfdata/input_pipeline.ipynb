{
 "cells": [
  {
   "cell_type": "markdown",
   "metadata": {},
   "source": [
    "# Input pipeline into Keras\n",
    "\n",
    "In this notebook, we will look at how to read large datasets, datasets that may not fit into memory, using TensorFlow. We can use the tf.data pipeline to feed data to Keras models that use a TensorFlow backend.\n",
    "\n",
    "Let's start off with the Python imports that we need."
   ]
  },
  {
   "cell_type": "code",
   "execution_count": 2,
   "metadata": {},
   "outputs": [
    {
     "name": "stdout",
     "output_type": "stream",
     "text": [
      "2.0.0-dev20190717\n"
     ]
    }
   ],
   "source": [
    "import os, json, math\n",
    "import numpy as np\n",
    "import tensorflow as tf\n",
    "print(tf.version.VERSION)"
   ]
  },
  {
   "cell_type": "markdown",
   "metadata": {},
   "source": [
    "## Locating the CSV files\n",
    "\n",
    "We will start with the CSV files that we wrote out in the [first notebook](../01_explore/taxifare.iypnb) of this sequence. Just so you don't have to run the notebook, we saved a copy in ../data"
   ]
  },
  {
   "cell_type": "code",
   "execution_count": 4,
   "metadata": {},
   "outputs": [
    {
     "name": "stdout",
     "output_type": "stream",
     "text": [
      "-rw-r--r-- 1 jupyter jupyter 123590 Jul 17 21:33 ../data/taxi-test.csv\n",
      "-rw-r--r-- 1 jupyter jupyter 579055 Jul 17 21:33 ../data/taxi-train.csv\n",
      "-rw-r--r-- 1 jupyter jupyter 123114 Jul 17 21:33 ../data/taxi-valid.csv\n"
     ]
    }
   ],
   "source": [
    "!ls -l ../data/*.csv"
   ]
  },
  {
   "cell_type": "markdown",
   "metadata": {},
   "source": [
    "## Use tf.data to read the CSV files\n",
    "\n",
    "See the documentation for [make_csv_dataset](https://www.tensorflow.org/api_docs/python/tf/data/experimental/make_csv_dataset).\n",
    "If you have TFRecords (which is recommended), use [make_batched_features_dataset](https://www.tensorflow.org/api_docs/python/tf/data/experimental/make_batched_features_dataset) instead."
   ]
  },
  {
   "cell_type": "code",
   "execution_count": 5,
   "metadata": {},
   "outputs": [],
   "source": [
    "CSV_COLUMNS  = ['fare_amount',  'pickup_datetime',\n",
    "                'pickup_longitude', 'pickup_latitude', \n",
    "                'dropoff_longitude', 'dropoff_latitude', \n",
    "                'passenger_count', 'key']\n",
    "LABEL_COLUMN = 'fare_amount'\n",
    "DEFAULTS     = [[0.0],['na'],[0.0],[0.0],[0.0],[0.0],[0.0],['na']]"
   ]
  },
  {
   "cell_type": "code",
   "execution_count": 6,
   "metadata": {},
   "outputs": [
    {
     "name": "stderr",
     "output_type": "stream",
     "text": [
      "WARNING: Logging before flag parsing goes to stderr.\n",
      "W0717 21:33:38.545008 140098805683968 deprecation.py:323] From /home/jupyter/.local/lib/python3.5/site-packages/tensorflow_core/python/data/experimental/ops/readers.py:499: parallel_interleave (from tensorflow.python.data.experimental.ops.interleave_ops) is deprecated and will be removed in a future version.\n",
      "Instructions for updating:\n",
      "Use `tf.data.Dataset.interleave(map_func, cycle_length, block_length, num_parallel_calls=tf.data.experimental.AUTOTUNE)` instead. If sloppy execution is desired, use `tf.data.Options.experimental_determinstic`.\n",
      "W0717 21:33:38.586160 140098805683968 deprecation.py:323] From /home/jupyter/.local/lib/python3.5/site-packages/tensorflow_core/python/data/experimental/ops/readers.py:212: shuffle_and_repeat (from tensorflow.python.data.experimental.ops.shuffle_ops) is deprecated and will be removed in a future version.\n",
      "Instructions for updating:\n",
      "Use `tf.data.Dataset.shuffle(buffer_size, seed)` followed by `tf.data.Dataset.repeat(count)`. Static tf.data optimizations will take care of using the fused implementation.\n"
     ]
    },
    {
     "name": "stdout",
     "output_type": "stream",
     "text": [
      "<PrefetchDataset shapes: OrderedDict([(fare_amount, (1,)), (pickup_datetime, (1,)), (pickup_longitude, (1,)), (pickup_latitude, (1,)), (dropoff_longitude, (1,)), (dropoff_latitude, (1,)), (passenger_count, (1,)), (key, (1,))]), types: OrderedDict([(fare_amount, tf.float32), (pickup_datetime, tf.string), (pickup_longitude, tf.float32), (pickup_latitude, tf.float32), (dropoff_longitude, tf.float32), (dropoff_latitude, tf.float32), (passenger_count, tf.float32), (key, tf.string)])>\n"
     ]
    }
   ],
   "source": [
    "# load the training data\n",
    "def load_dataset(pattern):\n",
    "  return tf.data.experimental.make_csv_dataset(pattern, 1, CSV_COLUMNS, DEFAULTS)\n",
    "\n",
    "tempds = load_dataset('../data/taxi-train*')\n",
    "print(tempds)"
   ]
  },
  {
   "cell_type": "markdown",
   "metadata": {},
   "source": [
    "Note that this is a prefetched dataset. If you loop over the dataset, you'll get the rows one-by-one. Let's convert each row into a Python dictionary:"
   ]
  },
  {
   "cell_type": "code",
   "execution_count": 7,
   "metadata": {},
   "outputs": [
    {
     "name": "stdout",
     "output_type": "stream",
     "text": [
      "0 {'pickup_longitude': array([-73.99723], dtype=float32), 'dropoff_longitude': array([-74.00726], dtype=float32), 'dropoff_latitude': array([40.708004], dtype=float32), 'pickup_datetime': array([b'2012-03-04 00:57:00 UTC'], dtype=object), 'pickup_latitude': array([40.721912], dtype=float32), 'fare_amount': array([6.1], dtype=float32), 'key': array([b'2272'], dtype=object), 'passenger_count': array([2.], dtype=float32)}\n",
      "1 {'pickup_longitude': array([-73.97512], dtype=float32), 'dropoff_longitude': array([-73.97276], dtype=float32), 'dropoff_latitude': array([40.761013], dtype=float32), 'pickup_datetime': array([b'2009-05-27 20:37:00 UTC'], dtype=object), 'pickup_latitude': array([40.752235], dtype=float32), 'fare_amount': array([5.3], dtype=float32), 'key': array([b'4498'], dtype=object), 'passenger_count': array([2.], dtype=float32)}\n",
      "2 {'pickup_longitude': array([-73.97003], dtype=float32), 'dropoff_longitude': array([-73.99409], dtype=float32), 'dropoff_latitude': array([40.752304], dtype=float32), 'pickup_datetime': array([b'2010-04-29 12:28:00 UTC'], dtype=object), 'pickup_latitude': array([40.799618], dtype=float32), 'fare_amount': array([15.7], dtype=float32), 'key': array([b'1249'], dtype=object), 'passenger_count': array([5.], dtype=float32)}\n",
      "3 {'pickup_longitude': array([-73.97913], dtype=float32), 'dropoff_longitude': array([-73.9691], dtype=float32), 'dropoff_latitude': array([40.79593], dtype=float32), 'pickup_datetime': array([b'2012-11-19 17:41:00 UTC'], dtype=object), 'pickup_latitude': array([40.760704], dtype=float32), 'fare_amount': array([12.], dtype=float32), 'key': array([b'5590'], dtype=object), 'passenger_count': array([5.], dtype=float32)}\n"
     ]
    }
   ],
   "source": [
    "# print a few of the rows\n",
    "for n, data in enumerate(tempds):\n",
    "    row_data = {k: v.numpy() for k,v in data.items()}\n",
    "    print(n, row_data)\n",
    "    if n > 2:\n",
    "        break"
   ]
  },
  {
   "cell_type": "markdown",
   "metadata": {},
   "source": [
    "What we really need is a dictionary of features + a label. So, we have to do two things to the above dictionary. (1) remove the unwanted column \"key\" and (2) keep the label separate from the features."
   ]
  },
  {
   "cell_type": "code",
   "execution_count": 8,
   "metadata": {},
   "outputs": [
    {
     "name": "stdout",
     "output_type": "stream",
     "text": [
      "0 [6.1] {'pickup_longitude': array([-73.99723], dtype=float32), 'dropoff_longitude': array([-74.00726], dtype=float32), 'dropoff_latitude': array([40.708004], dtype=float32), 'pickup_latitude': array([40.721912], dtype=float32), 'passenger_count': array([2.], dtype=float32)}\n",
      "1 [5.3] {'pickup_longitude': array([-73.97512], dtype=float32), 'dropoff_longitude': array([-73.97276], dtype=float32), 'dropoff_latitude': array([40.761013], dtype=float32), 'pickup_latitude': array([40.752235], dtype=float32), 'passenger_count': array([2.], dtype=float32)}\n",
      "2 [15.7] {'pickup_longitude': array([-73.97003], dtype=float32), 'dropoff_longitude': array([-73.99409], dtype=float32), 'dropoff_latitude': array([40.752304], dtype=float32), 'pickup_latitude': array([40.799618], dtype=float32), 'passenger_count': array([5.], dtype=float32)}\n",
      "3 [12.] {'pickup_longitude': array([-73.97913], dtype=float32), 'dropoff_longitude': array([-73.9691], dtype=float32), 'dropoff_latitude': array([40.79593], dtype=float32), 'pickup_latitude': array([40.760704], dtype=float32), 'passenger_count': array([5.], dtype=float32)}\n"
     ]
    }
   ],
   "source": [
    "# get features, label\n",
    "def features_and_labels(row_data):\n",
    "    for unwanted_col in ['pickup_datetime', 'key']:\n",
    "        row_data.pop(unwanted_col)\n",
    "    label = row_data.pop(LABEL_COLUMN)\n",
    "    return row_data, label  # features, label\n",
    "\n",
    "# print a few rows to make it sure works\n",
    "for n, data in enumerate(tempds):\n",
    "    row_data = {k: v.numpy() for k,v in data.items()}\n",
    "    features, label = features_and_labels(row_data)\n",
    "    print(n, label, features)\n",
    "    if n > 2:\n",
    "        break"
   ]
  },
  {
   "cell_type": "markdown",
   "metadata": {},
   "source": [
    "## Batching\n",
    "\n",
    "Let's do both (loading, features_label)\n",
    "in our load_dataset function, and also add batching."
   ]
  },
  {
   "cell_type": "code",
   "execution_count": 9,
   "metadata": {},
   "outputs": [
    {
     "name": "stdout",
     "output_type": "stream",
     "text": [
      "[(OrderedDict([('pickup_longitude', <tf.Tensor: id=227, shape=(2,), dtype=float32, numpy=array([-73.98064 , -73.974396], dtype=float32)>), ('pickup_latitude', <tf.Tensor: id=226, shape=(2,), dtype=float32, numpy=array([40.730053, 40.752274], dtype=float32)>), ('dropoff_longitude', <tf.Tensor: id=224, shape=(2,), dtype=float32, numpy=array([-73.98362, -73.99073], dtype=float32)>), ('dropoff_latitude', <tf.Tensor: id=223, shape=(2,), dtype=float32, numpy=array([40.721794, 40.750866], dtype=float32)>), ('passenger_count', <tf.Tensor: id=225, shape=(2,), dtype=float32, numpy=array([1., 1.], dtype=float32)>)]), <tf.Tensor: id=228, shape=(2,), dtype=float32, numpy=array([5. , 8.5], dtype=float32)>), (OrderedDict([('pickup_longitude', <tf.Tensor: id=233, shape=(2,), dtype=float32, numpy=array([-73.99829, -73.9817 ], dtype=float32)>), ('pickup_latitude', <tf.Tensor: id=232, shape=(2,), dtype=float32, numpy=array([40.71353 , 40.778484], dtype=float32)>), ('dropoff_longitude', <tf.Tensor: id=230, shape=(2,), dtype=float32, numpy=array([-73.99404, -73.96142], dtype=float32)>), ('dropoff_latitude', <tf.Tensor: id=229, shape=(2,), dtype=float32, numpy=array([40.732113, 40.76686 ], dtype=float32)>), ('passenger_count', <tf.Tensor: id=231, shape=(2,), dtype=float32, numpy=array([1., 1.], dtype=float32)>)]), <tf.Tensor: id=234, shape=(2,), dtype=float32, numpy=array([7.3, 9.5], dtype=float32)>), (OrderedDict([('pickup_longitude', <tf.Tensor: id=239, shape=(2,), dtype=float32, numpy=array([-74.00331, -73.79028], dtype=float32)>), ('pickup_latitude', <tf.Tensor: id=238, shape=(2,), dtype=float32, numpy=array([40.713787, 40.644047], dtype=float32)>), ('dropoff_longitude', <tf.Tensor: id=236, shape=(2,), dtype=float32, numpy=array([-73.991936, -73.97411 ], dtype=float32)>), ('dropoff_latitude', <tf.Tensor: id=235, shape=(2,), dtype=float32, numpy=array([40.74973, 40.75291], dtype=float32)>), ('passenger_count', <tf.Tensor: id=237, shape=(2,), dtype=float32, numpy=array([1., 4.], dtype=float32)>)]), <tf.Tensor: id=240, shape=(2,), dtype=float32, numpy=array([10.1 , 30.83], dtype=float32)>)]\n"
     ]
    }
   ],
   "source": [
    "def load_dataset(pattern, batch_size):\n",
    "  return (\n",
    "      tf.data.experimental.make_csv_dataset(pattern, batch_size, CSV_COLUMNS, DEFAULTS)\n",
    "             .map(features_and_labels) # features, label\n",
    "  )\n",
    "\n",
    "# try changing the batch size and watch what happens.\n",
    "tempds = load_dataset('../data/taxi-train*', batch_size=2)\n",
    "print(list(tempds.take(3))) # truncate and print as a list "
   ]
  },
  {
   "cell_type": "markdown",
   "metadata": {},
   "source": [
    "## Shuffling\n",
    "\n",
    "When training a deep learning model in batches over multiple workers, it is helpful if we shuffle the data. That way, different workers will be working on different parts of the input file at the same time, and so averaging gradients across workers will help. Also, during training, we will need to read the data indefinitely."
   ]
  },
  {
   "cell_type": "code",
   "execution_count": 10,
   "metadata": {},
   "outputs": [
    {
     "name": "stdout",
     "output_type": "stream",
     "text": [
      "[(OrderedDict([('pickup_longitude', <tf.Tensor: id=341, shape=(2,), dtype=float32, numpy=array([-73.97186, -74.00559], dtype=float32)>), ('pickup_latitude', <tf.Tensor: id=340, shape=(2,), dtype=float32, numpy=array([40.750294, 40.74017 ], dtype=float32)>), ('dropoff_longitude', <tf.Tensor: id=338, shape=(2,), dtype=float32, numpy=array([-73.97463, -73.9615 ], dtype=float32)>), ('dropoff_latitude', <tf.Tensor: id=337, shape=(2,), dtype=float32, numpy=array([40.736443, 40.768517], dtype=float32)>), ('passenger_count', <tf.Tensor: id=339, shape=(2,), dtype=float32, numpy=array([2., 1.], dtype=float32)>)]), <tf.Tensor: id=342, shape=(2,), dtype=float32, numpy=array([ 8.5, 16.1], dtype=float32)>)]\n",
      "[(OrderedDict([('pickup_longitude', <tf.Tensor: id=437, shape=(2,), dtype=float32, numpy=array([-74.01015 , -73.967316], dtype=float32)>), ('pickup_latitude', <tf.Tensor: id=436, shape=(2,), dtype=float32, numpy=array([40.711975, 40.76644 ], dtype=float32)>), ('dropoff_longitude', <tf.Tensor: id=434, shape=(2,), dtype=float32, numpy=array([-73.98739 , -74.008224], dtype=float32)>), ('dropoff_latitude', <tf.Tensor: id=433, shape=(2,), dtype=float32, numpy=array([40.73675 , 40.716595], dtype=float32)>), ('passenger_count', <tf.Tensor: id=435, shape=(2,), dtype=float32, numpy=array([2., 1.], dtype=float32)>)]), <tf.Tensor: id=438, shape=(2,), dtype=float32, numpy=array([ 8.5, 13.7], dtype=float32)>)]\n"
     ]
    }
   ],
   "source": [
    "def load_dataset(pattern, batch_size=1, mode=tf.estimator.ModeKeys.EVAL):\n",
    "  dataset = (tf.data.experimental.make_csv_dataset(pattern, batch_size, CSV_COLUMNS, DEFAULTS)\n",
    "             .map(features_and_labels) # features, label\n",
    "             .cache())\n",
    "  if mode == tf.estimator.ModeKeys.TRAIN:\n",
    "        dataset = dataset.shuffle(1000).repeat()\n",
    "  dataset = dataset.prefetch(1) # take advantage of multi-threading; 1=AUTOTUNE\n",
    "  return dataset\n",
    "\n",
    "tempds = load_dataset('../data/taxi-train*', 2, tf.estimator.ModeKeys.TRAIN)\n",
    "print(list(tempds.take(1)))\n",
    "tempds = load_dataset('../data/taxi-valid*', 2, tf.estimator.ModeKeys.EVAL)\n",
    "print(list(tempds.take(1)))"
   ]
  },
  {
   "cell_type": "markdown",
   "metadata": {},
   "source": [
    "In the next notebook, we will build the model using this input pipeline."
   ]
  },
  {
   "cell_type": "markdown",
   "metadata": {},
   "source": [
    "Copyright 2019 Google Inc.\n",
    "Licensed under the Apache License, Version 2.0 (the \"License\"); you may not use this file except in compliance with the License. You may obtain a copy of the License at\n",
    "http://www.apache.org/licenses/LICENSE-2.0\n",
    "Unless required by applicable law or agreed to in writing, software distributed under the License is distributed on an \"AS IS\" BASIS, WITHOUT WARRANTIES OR CONDITIONS OF ANY KIND, either express or implied. See the License for the specific language governing permissions and limitations under the License."
   ]
  }
 ],
 "metadata": {
  "kernelspec": {
   "display_name": "Python 3",
   "language": "python",
   "name": "python3"
  },
  "language_info": {
   "codemirror_mode": {
    "name": "ipython",
    "version": 3
   },
   "file_extension": ".py",
   "mimetype": "text/x-python",
   "name": "python",
   "nbconvert_exporter": "python",
   "pygments_lexer": "ipython3",
   "version": "3.5.3"
  }
 },
 "nbformat": 4,
 "nbformat_minor": 2
}
